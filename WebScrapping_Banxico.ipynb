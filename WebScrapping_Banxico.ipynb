{
  "nbformat": 4,
  "nbformat_minor": 0,
  "metadata": {
    "colab": {
      "name": "WebScrapping_Banxico.ipynb",
      "provenance": [],
      "include_colab_link": true
    },
    "kernelspec": {
      "name": "python3",
      "display_name": "Python 3"
    }
  },
  "cells": [
    {
      "cell_type": "markdown",
      "metadata": {
        "id": "view-in-github",
        "colab_type": "text"
      },
      "source": [
        "<a href=\"https://colab.research.google.com/github/aletorales/SeminarioCienciaDeDatos/blob/master/WebScrapping_Banxico.ipynb\" target=\"_parent\"><img src=\"https://colab.research.google.com/assets/colab-badge.svg\" alt=\"Open In Colab\"/></a>"
      ]
    },
    {
      "cell_type": "code",
      "metadata": {
        "id": "ywjjFZckdsuz",
        "colab_type": "code",
        "colab": {}
      },
      "source": [
        "import re\n",
        "import os\n",
        "import pandas as pd\n",
        "import matplotlib.pyplot as plt\n",
        "from requests_html import HTMLSession\n",
        "from collections import defaultdict\n",
        "from unidecode import unidecode\n",
        "from datetime import datetime"
      ],
      "execution_count": 0,
      "outputs": []
    },
    {
      "cell_type": "code",
      "metadata": {
        "id": "ZVkydWrhdt58",
        "colab_type": "code",
        "colab": {}
      },
      "source": [
        "%config InlineBackend.figure_format = \"retina\"\n",
        "plt.rcParams[\"figure.figsize\"] = (12, 4)"
      ],
      "execution_count": 0,
      "outputs": []
    },
    {
      "cell_type": "code",
      "metadata": {
        "id": "3qQP_86Mdv0i",
        "colab_type": "code",
        "colab": {}
      },
      "source": [
        "url = (\"https://www.banxico.org.mx/publicaciones-y-prensa/\"\n",
        "      \"anuncios-de-las-decisiones-de-politica-monetaria/\"\n",
        "      \"anuncios-politica-monetaria-t.html\")"
      ],
      "execution_count": 0,
      "outputs": []
    },
    {
      "cell_type": "code",
      "metadata": {
        "id": "BRdLwGb3dyit",
        "colab_type": "code",
        "colab": {}
      },
      "source": [
        "with HTMLSession() as sess:\n",
        "    r=sess.get(url)\n",
        "r"
      ],
      "execution_count": 0,
      "outputs": []
    },
    {
      "cell_type": "code",
      "metadata": {
        "id": "xwK8tUp7d0R1",
        "colab_type": "code",
        "colab": {}
      },
      "source": [
        "tbl= r.html.find(\"table\", first=True)\n",
        "tbl\n",
        "#table table-striped bmtableview"
      ],
      "execution_count": 0,
      "outputs": []
    },
    {
      "cell_type": "code",
      "metadata": {
        "id": "29ot3lled17C",
        "colab_type": "code",
        "colab": {}
      },
      "source": [
        "len(tbl.find(\"tr\"))"
      ],
      "execution_count": 0,
      "outputs": []
    },
    {
      "cell_type": "code",
      "metadata": {
        "id": "st-Ij_s5d3Y2",
        "colab_type": "code",
        "colab": {}
      },
      "source": [
        "minutas=tbl.find(\"tr\")"
      ],
      "execution_count": 0,
      "outputs": []
    },
    {
      "cell_type": "code",
      "metadata": {
        "id": "Ijxq2xlld5OC",
        "colab_type": "code",
        "colab": {}
      },
      "source": [
        "#extrae fecha y abstract de cada minuta\n",
        "qdate=\"td[class='bmdateview']\"\n",
        "qabst=\"td[class='bmtextview']\"\n",
        "\n",
        "minutas[0].find(qdate,first=True).text\n",
        "minutas[0].find(qabst,first=True).text"
      ],
      "execution_count": 0,
      "outputs": []
    },
    {
      "cell_type": "code",
      "metadata": {
        "id": "7SFjkcWTd7Fe",
        "colab_type": "code",
        "colab": {}
      },
      "source": [
        "#extrae la url \n",
        "qurl=\"a[onclick]\"\n",
        "minutas[0].find(qurl,first=True).absolute_links\n",
        "purl,*_=minutas[0].find(qurl,first=True).absolute_links\n",
        "purl"
      ],
      "execution_count": 0,
      "outputs": []
    },
    {
      "cell_type": "code",
      "metadata": {
        "id": "u9ebMx0bd7Jn",
        "colab_type": "code",
        "colab": {}
      },
      "source": [
        "#Extrayendo todo \n",
        "qdate=\"td[class='bmdateview']\"\n",
        "qabst=\"td[class='bmtextview']\"\n",
        "qurl=\"a[onclick]\"\n",
        "\n",
        "data=[]\n",
        "for minu in minutas:\n",
        "    date= (minu.find(qdate, first=True)\n",
        "                .text)\n",
        "    abst= (minu.find(qabst, first=True)\n",
        "               .text)\n",
        "    purl, *_= (minu.find(qurl, first=True)\n",
        "                 .absolute_links)\n",
        "    data_fr={\n",
        "        \"date\":datetime.strptime(date,\"%d/%m/%y\"),\n",
        "        \"text\": abst,\n",
        "        \"url\": purl\n",
        "    }\n",
        "    data.append(data_fr)"
      ],
      "execution_count": 0,
      "outputs": []
    },
    {
      "cell_type": "code",
      "metadata": {
        "id": "yK4tkFztd_0X",
        "colab_type": "code",
        "colab": {}
      },
      "source": [
        "comunicados=pd.DataFrame(data)\n",
        "comunicados"
      ],
      "execution_count": 0,
      "outputs": []
    },
    {
      "cell_type": "code",
      "metadata": {
        "id": "xkb8zjpmeBgt",
        "colab_type": "code",
        "colab": {}
      },
      "source": [
        "###########Prueba\n",
        "fecha=comunicados[\"date\"][0]\n",
        "fecha\n",
        "datetime.strptime(fecha,\"%d/%m/%y\")"
      ],
      "execution_count": 0,
      "outputs": []
    },
    {
      "cell_type": "code",
      "metadata": {
        "id": "uMHDKGkJeDr1",
        "colab_type": "code",
        "colab": {}
      },
      "source": [
        "#Filtra después del 15-02-2008 y acomoda de manera ascendente\n",
        "comunicados_f=(comunicados[comunicados[\"date\"]>=datetime(2008, 2, 15)].set_index(\"date\")\n",
        "                                                                      .sort_index())"
      ],
      "execution_count": 0,
      "outputs": []
    },
    {
      "cell_type": "code",
      "metadata": {
        "id": "BI2Oa3RCeFb_",
        "colab_type": "code",
        "colab": {}
      },
      "source": [
        "#Convierte archivo a pickle y lo lee\n",
        "comunicados_f.to_pickle(\"comunicados-banxico.pkl\")\n",
        "info_df=pd.read_pickle(\"comunicados-banxico.pkl\")\n",
        "info_df.head()"
      ],
      "execution_count": 0,
      "outputs": []
    },
    {
      "cell_type": "code",
      "metadata": {
        "id": "IBrfstIbeI2C",
        "colab_type": "code",
        "colab": {}
      },
      "source": [
        "#Extrae del texto si la tasa de mantiene incrementa o disminuye\n",
        "extract=pd.Series(info_df[\"text\"])\n",
        "estado_tasa=extract.str.extract(pat='(mantiene|incrementa|disminuye)')\n",
        "tasa=pd.DataFrame(estado_tasa)"
      ],
      "execution_count": 0,
      "outputs": []
    },
    {
      "cell_type": "code",
      "metadata": {
        "id": "KpgJZwNdeJTZ",
        "colab_type": "code",
        "colab": {}
      },
      "source": [
        "#full_df=info_df.join(tasa, how=\"left\")\n",
        "full_df=info_df.assign(category=tasa)\n",
        "full_df"
      ],
      "execution_count": 0,
      "outputs": []
    },
    {
      "cell_type": "code",
      "metadata": {
        "id": "NN6bkkfJeMc7",
        "colab_type": "code",
        "colab": {}
      },
      "source": [
        "#Cuenta cuántas veces incrementa, disminuye o se mantiene la tasa \n",
        "(full_df.groupby(\"category\").count()\n",
        "                            .drop(\"url\",axis=1))"
      ],
      "execution_count": 0,
      "outputs": []
    },
    {
      "cell_type": "code",
      "metadata": {
        "id": "bAI5LJUleOfj",
        "colab_type": "code",
        "colab": {}
      },
      "source": [
        "(full_df.groupby(\"category\").count()\n",
        "                            .drop(\"url\",axis=1)).plot.bar(legend=False,figsize=(12, 4))"
      ],
      "execution_count": 0,
      "outputs": []
    },
    {
      "cell_type": "code",
      "metadata": {
        "id": "79rMlYgxeQvc",
        "colab_type": "code",
        "colab": {}
      },
      "source": [
        "def convert(df):\n",
        "    for i in range(len(df)):\n",
        "        if df[0][i]==\"mantiene\":\n",
        "            df[0][i]==0\n",
        "        elif df[0][i]==\"disminuye\":\n",
        "            df[0][i]==-1\n",
        "        else:\n",
        "            df[0][i]==1\n",
        "    return df"
      ],
      "execution_count": 0,
      "outputs": []
    },
    {
      "cell_type": "code",
      "metadata": {
        "id": "7gfPy4IieSif",
        "colab_type": "code",
        "colab": {}
      },
      "source": [
        "tabla_2=convert(estado_tasa)"
      ],
      "execution_count": 0,
      "outputs": []
    },
    {
      "cell_type": "code",
      "metadata": {
        "id": "ivAlQs92eVTF",
        "colab_type": "code",
        "colab": {}
      },
      "source": [
        ".assign(year=lambda v: v[\"paymentDate\"].astype(\"datetime64[Y]\")"
      ],
      "execution_count": 0,
      "outputs": []
    }
  ]
}