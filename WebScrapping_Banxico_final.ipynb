{
  "nbformat": 4,
  "nbformat_minor": 0,
  "metadata": {
    "colab": {
      "name": "WebScrapping_Banxico.ipynb",
      "provenance": [],
      "collapsed_sections": [],
      "include_colab_link": true
    },
    "kernelspec": {
      "name": "python3",
      "display_name": "Python 3"
    }
  },
  "cells": [
    {
      "cell_type": "markdown",
      "metadata": {
        "id": "view-in-github",
        "colab_type": "text"
      },
      "source": [
        "<a href=\"https://colab.research.google.com/github/aletorales/SeminarioCienciaDeDatos/blob/master/WebScrapping_Banxico_final.ipynb\" target=\"_parent\"><img src=\"https://colab.research.google.com/assets/colab-badge.svg\" alt=\"Open In Colab\"/></a>"
      ]
    },
    {
      "cell_type": "code",
      "metadata": {
        "id": "ywjjFZckdsuz",
        "colab_type": "code",
        "colab": {}
      },
      "source": [
        "import re\n",
        "import os\n",
        "import pandas as pd\n",
        "import matplotlib.pyplot as plt\n",
        "from requests_html import HTMLSession\n",
        "from collections import defaultdict\n",
        "from unidecode import unidecode\n",
        "from datetime import datetime\n",
        "import numpy as np"
      ],
      "execution_count": 0,
      "outputs": []
    },
    {
      "cell_type": "code",
      "metadata": {
        "id": "jPtJwwFTje68",
        "colab_type": "code",
        "colab": {}
      },
      "source": [
        "#pip install requests_html\n",
        "#pip install unidecode"
      ],
      "execution_count": 0,
      "outputs": []
    },
    {
      "cell_type": "code",
      "metadata": {
        "id": "ZVkydWrhdt58",
        "colab_type": "code",
        "colab": {}
      },
      "source": [
        "%config InlineBackend.figure_format = \"retina\"\n",
        "plt.rcParams[\"figure.figsize\"] = (12, 4)"
      ],
      "execution_count": 0,
      "outputs": []
    },
    {
      "cell_type": "code",
      "metadata": {
        "id": "3qQP_86Mdv0i",
        "colab_type": "code",
        "colab": {}
      },
      "source": [
        "url = (\"https://www.banxico.org.mx/publicaciones-y-prensa/\"\n",
        "      \"anuncios-de-las-decisiones-de-politica-monetaria/\"\n",
        "      \"anuncios-politica-monetaria-t.html\")"
      ],
      "execution_count": 0,
      "outputs": []
    },
    {
      "cell_type": "code",
      "metadata": {
        "id": "BRdLwGb3dyit",
        "colab_type": "code",
        "colab": {
          "base_uri": "https://localhost:8080/",
          "height": 34
        },
        "outputId": "e7cc10ae-4a35-4833-82d6-b808cdbe2bbe"
      },
      "source": [
        "with HTMLSession() as sess:\n",
        "    r=sess.get(url)\n",
        "r"
      ],
      "execution_count": 8,
      "outputs": [
        {
          "output_type": "execute_result",
          "data": {
            "text/plain": [
              "<Response [200]>"
            ]
          },
          "metadata": {
            "tags": []
          },
          "execution_count": 8
        }
      ]
    },
    {
      "cell_type": "code",
      "metadata": {
        "id": "xwK8tUp7d0R1",
        "colab_type": "code",
        "colab": {
          "base_uri": "https://localhost:8080/",
          "height": 34
        },
        "outputId": "db0bef6d-8f65-45c1-c5bf-6f60bfd122a8"
      },
      "source": [
        "tbl= r.html.find(\"table\", first=True)\n",
        "tbl\n",
        "#table table-striped bmtableview"
      ],
      "execution_count": 9,
      "outputs": [
        {
          "output_type": "execute_result",
          "data": {
            "text/plain": [
              "<Element 'table' class=('table', 'table-striped', 'bmtableview')>"
            ]
          },
          "metadata": {
            "tags": []
          },
          "execution_count": 9
        }
      ]
    },
    {
      "cell_type": "code",
      "metadata": {
        "id": "29ot3lled17C",
        "colab_type": "code",
        "colab": {
          "base_uri": "https://localhost:8080/",
          "height": 34
        },
        "outputId": "6644c374-f7a8-4dcf-bdb8-2e8d83462d72"
      },
      "source": [
        "len(tbl.find(\"tr\"))"
      ],
      "execution_count": 10,
      "outputs": [
        {
          "output_type": "execute_result",
          "data": {
            "text/plain": [
              "182"
            ]
          },
          "metadata": {
            "tags": []
          },
          "execution_count": 10
        }
      ]
    },
    {
      "cell_type": "code",
      "metadata": {
        "id": "st-Ij_s5d3Y2",
        "colab_type": "code",
        "colab": {}
      },
      "source": [
        "minutas=tbl.find(\"tr\")"
      ],
      "execution_count": 0,
      "outputs": []
    },
    {
      "cell_type": "code",
      "metadata": {
        "id": "Ijxq2xlld5OC",
        "colab_type": "code",
        "colab": {
          "base_uri": "https://localhost:8080/",
          "height": 34
        },
        "outputId": "4e5a1da5-c9ff-4066-cbff-61850279f8d1"
      },
      "source": [
        "#extrae fecha y abstract de cada minuta\n",
        "qdate=\"td[class='bmdateview']\"\n",
        "qabst=\"td[class='bmtextview']\"\n",
        "\n",
        "minutas[0].find(qdate,first=True).text\n",
        "minutas[0].find(qabst,first=True).text.rstrip(' Texto completo')"
      ],
      "execution_count": 33,
      "outputs": [
        {
          "output_type": "execute_result",
          "data": {
            "text/plain": [
              "'El objetivo para la Tasa de Inter�s Interbancaria a 1 d�a (tasa objetivo) disminuye en 25 puntos base\\n'"
            ]
          },
          "metadata": {
            "tags": []
          },
          "execution_count": 33
        }
      ]
    },
    {
      "cell_type": "code",
      "metadata": {
        "id": "7SFjkcWTd7Fe",
        "colab_type": "code",
        "colab": {
          "base_uri": "https://localhost:8080/",
          "height": 34
        },
        "outputId": "f4d6dc09-a42f-4916-cdd3-8752e964811f"
      },
      "source": [
        "#extrae la url \n",
        "qurl=\"a[onclick]\"\n",
        "minutas[0].find(qurl,first=True).absolute_links\n",
        "purl,*_=minutas[0].find(qurl,first=True).absolute_links\n",
        "purl"
      ],
      "execution_count": 13,
      "outputs": [
        {
          "output_type": "execute_result",
          "data": {
            "text/plain": [
              "'https://www.banxico.org.mx/publicaciones-y-prensa/anuncios-de-las-decisiones-de-politica-monetaria/{0DD5A3F4-0B57-8F6A-6F98-1F5048852A35}.pdf'"
            ]
          },
          "metadata": {
            "tags": []
          },
          "execution_count": 13
        }
      ]
    },
    {
      "cell_type": "code",
      "metadata": {
        "id": "u9ebMx0bd7Jn",
        "colab_type": "code",
        "colab": {}
      },
      "source": [
        "#Extrayendo todo \n",
        "qdate=\"td[class='bmdateview']\"\n",
        "qabst=\"td[class='bmtextview']\"\n",
        "qurl=\"a[onclick]\"\n",
        "\n",
        "data=[]\n",
        "for minu in minutas:\n",
        "    date= (minu.find(qdate, first=True)\n",
        "                .text)\n",
        "    abst= (minu.find(qabst, first=True)\n",
        "               .text.rstrip(\"Texto completo\"))\n",
        "    purl, *_= (minu.find(qurl, first=True)\n",
        "                 .absolute_links)\n",
        "    data_fr={\n",
        "        \"date\":datetime.strptime(date,\"%d/%m/%y\"),\n",
        "        \"text\": abst,\n",
        "        \"url\": purl\n",
        "    }\n",
        "    data.append(data_fr)"
      ],
      "execution_count": 0,
      "outputs": []
    },
    {
      "cell_type": "code",
      "metadata": {
        "id": "yK4tkFztd_0X",
        "colab_type": "code",
        "colab": {
          "base_uri": "https://localhost:8080/",
          "height": 419
        },
        "outputId": "86a35400-e3ba-464c-9a91-403e0d23c70f"
      },
      "source": [
        "comunicados=pd.DataFrame(data)\n",
        "comunicados"
      ],
      "execution_count": 35,
      "outputs": [
        {
          "output_type": "execute_result",
          "data": {
            "text/html": [
              "<div>\n",
              "<style scoped>\n",
              "    .dataframe tbody tr th:only-of-type {\n",
              "        vertical-align: middle;\n",
              "    }\n",
              "\n",
              "    .dataframe tbody tr th {\n",
              "        vertical-align: top;\n",
              "    }\n",
              "\n",
              "    .dataframe thead th {\n",
              "        text-align: right;\n",
              "    }\n",
              "</style>\n",
              "<table border=\"1\" class=\"dataframe\">\n",
              "  <thead>\n",
              "    <tr style=\"text-align: right;\">\n",
              "      <th></th>\n",
              "      <th>date</th>\n",
              "      <th>text</th>\n",
              "      <th>url</th>\n",
              "    </tr>\n",
              "  </thead>\n",
              "  <tbody>\n",
              "    <tr>\n",
              "      <th>0</th>\n",
              "      <td>2019-11-14</td>\n",
              "      <td>El objetivo para la Tasa de Inter�s Interbanca...</td>\n",
              "      <td>https://www.banxico.org.mx/publicaciones-y-pre...</td>\n",
              "    </tr>\n",
              "    <tr>\n",
              "      <th>1</th>\n",
              "      <td>2019-09-26</td>\n",
              "      <td>El objetivo para la Tasa de Inter�s Interbanca...</td>\n",
              "      <td>https://www.banxico.org.mx/publicaciones-y-pre...</td>\n",
              "    </tr>\n",
              "    <tr>\n",
              "      <th>2</th>\n",
              "      <td>2019-08-15</td>\n",
              "      <td>El objetivo para la Tasa de Inter�s Interbanca...</td>\n",
              "      <td>https://www.banxico.org.mx/publicaciones-y-pre...</td>\n",
              "    </tr>\n",
              "    <tr>\n",
              "      <th>3</th>\n",
              "      <td>2019-06-27</td>\n",
              "      <td>El objetivo para la Tasa de Inter�s Interbanca...</td>\n",
              "      <td>https://www.banxico.org.mx/publicaciones-y-pre...</td>\n",
              "    </tr>\n",
              "    <tr>\n",
              "      <th>4</th>\n",
              "      <td>2019-05-16</td>\n",
              "      <td>El objetivo para la Tasa de Inter�s Interbanca...</td>\n",
              "      <td>https://www.banxico.org.mx/publicaciones-y-pre...</td>\n",
              "    </tr>\n",
              "    <tr>\n",
              "      <th>...</th>\n",
              "      <td>...</td>\n",
              "      <td>...</td>\n",
              "      <td>...</td>\n",
              "    </tr>\n",
              "    <tr>\n",
              "      <th>177</th>\n",
              "      <td>2000-10-17</td>\n",
              "      <td>El \"corto\" se aumenta a 310 millones de pesos\\n</td>\n",
              "      <td>https://www.banxico.org.mx/publicaciones-y-pre...</td>\n",
              "    </tr>\n",
              "    <tr>\n",
              "      <th>178</th>\n",
              "      <td>2000-07-31</td>\n",
              "      <td>El \"corto\" se aumenta a 280 millones de pesos\\n</td>\n",
              "      <td>https://www.banxico.org.mx/publicaciones-y-pre...</td>\n",
              "    </tr>\n",
              "    <tr>\n",
              "      <th>179</th>\n",
              "      <td>2000-06-26</td>\n",
              "      <td>El \"corto\" se aumenta a 230 millones de pesos\\n</td>\n",
              "      <td>https://www.banxico.org.mx/publicaciones-y-pre...</td>\n",
              "    </tr>\n",
              "    <tr>\n",
              "      <th>180</th>\n",
              "      <td>2000-05-16</td>\n",
              "      <td>El \"corto\" se aumenta a 200 millones de pesos\\n</td>\n",
              "      <td>https://www.banxico.org.mx/publicaciones-y-pre...</td>\n",
              "    </tr>\n",
              "    <tr>\n",
              "      <th>181</th>\n",
              "      <td>2000-01-18</td>\n",
              "      <td>El \"corto\" se aumenta a 180 millones de pesos\\n</td>\n",
              "      <td>https://www.banxico.org.mx/publicaciones-y-pre...</td>\n",
              "    </tr>\n",
              "  </tbody>\n",
              "</table>\n",
              "<p>182 rows × 3 columns</p>\n",
              "</div>"
            ],
            "text/plain": [
              "          date  ...                                                url\n",
              "0   2019-11-14  ...  https://www.banxico.org.mx/publicaciones-y-pre...\n",
              "1   2019-09-26  ...  https://www.banxico.org.mx/publicaciones-y-pre...\n",
              "2   2019-08-15  ...  https://www.banxico.org.mx/publicaciones-y-pre...\n",
              "3   2019-06-27  ...  https://www.banxico.org.mx/publicaciones-y-pre...\n",
              "4   2019-05-16  ...  https://www.banxico.org.mx/publicaciones-y-pre...\n",
              "..         ...  ...                                                ...\n",
              "177 2000-10-17  ...  https://www.banxico.org.mx/publicaciones-y-pre...\n",
              "178 2000-07-31  ...  https://www.banxico.org.mx/publicaciones-y-pre...\n",
              "179 2000-06-26  ...  https://www.banxico.org.mx/publicaciones-y-pre...\n",
              "180 2000-05-16  ...  https://www.banxico.org.mx/publicaciones-y-pre...\n",
              "181 2000-01-18  ...  https://www.banxico.org.mx/publicaciones-y-pre...\n",
              "\n",
              "[182 rows x 3 columns]"
            ]
          },
          "metadata": {
            "tags": []
          },
          "execution_count": 35
        }
      ]
    },
    {
      "cell_type": "code",
      "metadata": {
        "id": "xkb8zjpmeBgt",
        "colab_type": "code",
        "colab": {}
      },
      "source": [
        "###########Prueba\n",
        "fecha=comunicados[\"date\"][0]\n",
        "fecha\n",
        "datetime.strptime(fecha,\"%d/%m/%y\")\n",
        "####################"
      ],
      "execution_count": 0,
      "outputs": []
    },
    {
      "cell_type": "code",
      "metadata": {
        "id": "uMHDKGkJeDr1",
        "colab_type": "code",
        "colab": {}
      },
      "source": [
        "#Filtra después del 15-02-2008 y acomoda de manera ascendente\n",
        "comunicados_f=(comunicados[comunicados[\"date\"]>=datetime(2008, 2, 15)].set_index(\"date\")\n",
        "                                                                      .sort_index())"
      ],
      "execution_count": 0,
      "outputs": []
    },
    {
      "cell_type": "code",
      "metadata": {
        "id": "BI2Oa3RCeFb_",
        "colab_type": "code",
        "colab": {
          "base_uri": "https://localhost:8080/",
          "height": 450
        },
        "outputId": "9a8e5e88-e20c-4ee8-ba0b-b70f73b48638"
      },
      "source": [
        "#Convierte archivo a pickle y lo lee\n",
        "comunicados_f.to_pickle(\"comunicados-banxico.pkl\")\n",
        "info_df=pd.read_pickle(\"comunicados-banxico.pkl\")\n",
        "info_df"
      ],
      "execution_count": 39,
      "outputs": [
        {
          "output_type": "execute_result",
          "data": {
            "text/html": [
              "<div>\n",
              "<style scoped>\n",
              "    .dataframe tbody tr th:only-of-type {\n",
              "        vertical-align: middle;\n",
              "    }\n",
              "\n",
              "    .dataframe tbody tr th {\n",
              "        vertical-align: top;\n",
              "    }\n",
              "\n",
              "    .dataframe thead th {\n",
              "        text-align: right;\n",
              "    }\n",
              "</style>\n",
              "<table border=\"1\" class=\"dataframe\">\n",
              "  <thead>\n",
              "    <tr style=\"text-align: right;\">\n",
              "      <th></th>\n",
              "      <th>text</th>\n",
              "      <th>url</th>\n",
              "    </tr>\n",
              "    <tr>\n",
              "      <th>date</th>\n",
              "      <th></th>\n",
              "      <th></th>\n",
              "    </tr>\n",
              "  </thead>\n",
              "  <tbody>\n",
              "    <tr>\n",
              "      <th>2008-02-15</th>\n",
              "      <td>El objetivo para la Tasa de Inter�s Interbanca...</td>\n",
              "      <td>https://www.banxico.org.mx/publicaciones-y-pre...</td>\n",
              "    </tr>\n",
              "    <tr>\n",
              "      <th>2008-03-14</th>\n",
              "      <td>El objetivo para la Tasa de Inter�s Interbanca...</td>\n",
              "      <td>https://www.banxico.org.mx/publicaciones-y-pre...</td>\n",
              "    </tr>\n",
              "    <tr>\n",
              "      <th>2008-04-18</th>\n",
              "      <td>El objetivo para la Tasa de Inter�s Interbanca...</td>\n",
              "      <td>https://www.banxico.org.mx/publicaciones-y-pre...</td>\n",
              "    </tr>\n",
              "    <tr>\n",
              "      <th>2008-05-16</th>\n",
              "      <td>El objetivo para la Tasa de Inter�s Interbanca...</td>\n",
              "      <td>https://www.banxico.org.mx/publicaciones-y-pre...</td>\n",
              "    </tr>\n",
              "    <tr>\n",
              "      <th>2008-06-20</th>\n",
              "      <td>El objetivo para la Tasa de Inter�s Interbanca...</td>\n",
              "      <td>https://www.banxico.org.mx/publicaciones-y-pre...</td>\n",
              "    </tr>\n",
              "    <tr>\n",
              "      <th>...</th>\n",
              "      <td>...</td>\n",
              "      <td>...</td>\n",
              "    </tr>\n",
              "    <tr>\n",
              "      <th>2019-05-16</th>\n",
              "      <td>El objetivo para la Tasa de Inter�s Interbanca...</td>\n",
              "      <td>https://www.banxico.org.mx/publicaciones-y-pre...</td>\n",
              "    </tr>\n",
              "    <tr>\n",
              "      <th>2019-06-27</th>\n",
              "      <td>El objetivo para la Tasa de Inter�s Interbanca...</td>\n",
              "      <td>https://www.banxico.org.mx/publicaciones-y-pre...</td>\n",
              "    </tr>\n",
              "    <tr>\n",
              "      <th>2019-08-15</th>\n",
              "      <td>El objetivo para la Tasa de Inter�s Interbanca...</td>\n",
              "      <td>https://www.banxico.org.mx/publicaciones-y-pre...</td>\n",
              "    </tr>\n",
              "    <tr>\n",
              "      <th>2019-09-26</th>\n",
              "      <td>El objetivo para la Tasa de Inter�s Interbanca...</td>\n",
              "      <td>https://www.banxico.org.mx/publicaciones-y-pre...</td>\n",
              "    </tr>\n",
              "    <tr>\n",
              "      <th>2019-11-14</th>\n",
              "      <td>El objetivo para la Tasa de Inter�s Interbanca...</td>\n",
              "      <td>https://www.banxico.org.mx/publicaciones-y-pre...</td>\n",
              "    </tr>\n",
              "  </tbody>\n",
              "</table>\n",
              "<p>104 rows × 2 columns</p>\n",
              "</div>"
            ],
            "text/plain": [
              "                                                         text                                                url\n",
              "date                                                                                                            \n",
              "2008-02-15  El objetivo para la Tasa de Inter�s Interbanca...  https://www.banxico.org.mx/publicaciones-y-pre...\n",
              "2008-03-14  El objetivo para la Tasa de Inter�s Interbanca...  https://www.banxico.org.mx/publicaciones-y-pre...\n",
              "2008-04-18  El objetivo para la Tasa de Inter�s Interbanca...  https://www.banxico.org.mx/publicaciones-y-pre...\n",
              "2008-05-16  El objetivo para la Tasa de Inter�s Interbanca...  https://www.banxico.org.mx/publicaciones-y-pre...\n",
              "2008-06-20  El objetivo para la Tasa de Inter�s Interbanca...  https://www.banxico.org.mx/publicaciones-y-pre...\n",
              "...                                                       ...                                                ...\n",
              "2019-05-16  El objetivo para la Tasa de Inter�s Interbanca...  https://www.banxico.org.mx/publicaciones-y-pre...\n",
              "2019-06-27  El objetivo para la Tasa de Inter�s Interbanca...  https://www.banxico.org.mx/publicaciones-y-pre...\n",
              "2019-08-15  El objetivo para la Tasa de Inter�s Interbanca...  https://www.banxico.org.mx/publicaciones-y-pre...\n",
              "2019-09-26  El objetivo para la Tasa de Inter�s Interbanca...  https://www.banxico.org.mx/publicaciones-y-pre...\n",
              "2019-11-14  El objetivo para la Tasa de Inter�s Interbanca...  https://www.banxico.org.mx/publicaciones-y-pre...\n",
              "\n",
              "[104 rows x 2 columns]"
            ]
          },
          "metadata": {
            "tags": []
          },
          "execution_count": 39
        }
      ]
    },
    {
      "cell_type": "code",
      "metadata": {
        "id": "IBrfstIbeI2C",
        "colab_type": "code",
        "colab": {}
      },
      "source": [
        "#Extrae del texto si la tasa de mantiene incrementa o disminuye\n",
        "extract=pd.Series(info_df[\"text\"])\n",
        "estado_tasa=extract.str.extract(pat='(mantiene|incrementa|disminuye)',expand=True)\n",
        "tasa=pd.Series(estado_tasa[0], name=\"category\")  "
      ],
      "execution_count": 0,
      "outputs": []
    },
    {
      "cell_type": "code",
      "metadata": {
        "id": "KpgJZwNdeJTZ",
        "colab_type": "code",
        "colab": {
          "base_uri": "https://localhost:8080/",
          "height": 450
        },
        "outputId": "58c038e0-5c2c-4f4b-eb88-b8d6d7af180a"
      },
      "source": [
        "#full_df=info_df.join(tasa, how=\"left\")\n",
        "full_df=info_df.assign(category=tasa)\n",
        "full_df"
      ],
      "execution_count": 87,
      "outputs": [
        {
          "output_type": "execute_result",
          "data": {
            "text/html": [
              "<div>\n",
              "<style scoped>\n",
              "    .dataframe tbody tr th:only-of-type {\n",
              "        vertical-align: middle;\n",
              "    }\n",
              "\n",
              "    .dataframe tbody tr th {\n",
              "        vertical-align: top;\n",
              "    }\n",
              "\n",
              "    .dataframe thead th {\n",
              "        text-align: right;\n",
              "    }\n",
              "</style>\n",
              "<table border=\"1\" class=\"dataframe\">\n",
              "  <thead>\n",
              "    <tr style=\"text-align: right;\">\n",
              "      <th></th>\n",
              "      <th>text</th>\n",
              "      <th>url</th>\n",
              "      <th>category</th>\n",
              "    </tr>\n",
              "    <tr>\n",
              "      <th>date</th>\n",
              "      <th></th>\n",
              "      <th></th>\n",
              "      <th></th>\n",
              "    </tr>\n",
              "  </thead>\n",
              "  <tbody>\n",
              "    <tr>\n",
              "      <th>2008-02-15</th>\n",
              "      <td>El objetivo para la Tasa de Inter�s Interbanca...</td>\n",
              "      <td>https://www.banxico.org.mx/publicaciones-y-pre...</td>\n",
              "      <td>mantiene</td>\n",
              "    </tr>\n",
              "    <tr>\n",
              "      <th>2008-03-14</th>\n",
              "      <td>El objetivo para la Tasa de Inter�s Interbanca...</td>\n",
              "      <td>https://www.banxico.org.mx/publicaciones-y-pre...</td>\n",
              "      <td>mantiene</td>\n",
              "    </tr>\n",
              "    <tr>\n",
              "      <th>2008-04-18</th>\n",
              "      <td>El objetivo para la Tasa de Inter�s Interbanca...</td>\n",
              "      <td>https://www.banxico.org.mx/publicaciones-y-pre...</td>\n",
              "      <td>mantiene</td>\n",
              "    </tr>\n",
              "    <tr>\n",
              "      <th>2008-05-16</th>\n",
              "      <td>El objetivo para la Tasa de Inter�s Interbanca...</td>\n",
              "      <td>https://www.banxico.org.mx/publicaciones-y-pre...</td>\n",
              "      <td>mantiene</td>\n",
              "    </tr>\n",
              "    <tr>\n",
              "      <th>2008-06-20</th>\n",
              "      <td>El objetivo para la Tasa de Inter�s Interbanca...</td>\n",
              "      <td>https://www.banxico.org.mx/publicaciones-y-pre...</td>\n",
              "      <td>incrementa</td>\n",
              "    </tr>\n",
              "    <tr>\n",
              "      <th>...</th>\n",
              "      <td>...</td>\n",
              "      <td>...</td>\n",
              "      <td>...</td>\n",
              "    </tr>\n",
              "    <tr>\n",
              "      <th>2019-05-16</th>\n",
              "      <td>El objetivo para la Tasa de Inter�s Interbanca...</td>\n",
              "      <td>https://www.banxico.org.mx/publicaciones-y-pre...</td>\n",
              "      <td>mantiene</td>\n",
              "    </tr>\n",
              "    <tr>\n",
              "      <th>2019-06-27</th>\n",
              "      <td>El objetivo para la Tasa de Inter�s Interbanca...</td>\n",
              "      <td>https://www.banxico.org.mx/publicaciones-y-pre...</td>\n",
              "      <td>mantiene</td>\n",
              "    </tr>\n",
              "    <tr>\n",
              "      <th>2019-08-15</th>\n",
              "      <td>El objetivo para la Tasa de Inter�s Interbanca...</td>\n",
              "      <td>https://www.banxico.org.mx/publicaciones-y-pre...</td>\n",
              "      <td>disminuye</td>\n",
              "    </tr>\n",
              "    <tr>\n",
              "      <th>2019-09-26</th>\n",
              "      <td>El objetivo para la Tasa de Inter�s Interbanca...</td>\n",
              "      <td>https://www.banxico.org.mx/publicaciones-y-pre...</td>\n",
              "      <td>disminuye</td>\n",
              "    </tr>\n",
              "    <tr>\n",
              "      <th>2019-11-14</th>\n",
              "      <td>El objetivo para la Tasa de Inter�s Interbanca...</td>\n",
              "      <td>https://www.banxico.org.mx/publicaciones-y-pre...</td>\n",
              "      <td>disminuye</td>\n",
              "    </tr>\n",
              "  </tbody>\n",
              "</table>\n",
              "<p>104 rows × 3 columns</p>\n",
              "</div>"
            ],
            "text/plain": [
              "                                                         text  ...    category\n",
              "date                                                           ...            \n",
              "2008-02-15  El objetivo para la Tasa de Inter�s Interbanca...  ...    mantiene\n",
              "2008-03-14  El objetivo para la Tasa de Inter�s Interbanca...  ...    mantiene\n",
              "2008-04-18  El objetivo para la Tasa de Inter�s Interbanca...  ...    mantiene\n",
              "2008-05-16  El objetivo para la Tasa de Inter�s Interbanca...  ...    mantiene\n",
              "2008-06-20  El objetivo para la Tasa de Inter�s Interbanca...  ...  incrementa\n",
              "...                                                       ...  ...         ...\n",
              "2019-05-16  El objetivo para la Tasa de Inter�s Interbanca...  ...    mantiene\n",
              "2019-06-27  El objetivo para la Tasa de Inter�s Interbanca...  ...    mantiene\n",
              "2019-08-15  El objetivo para la Tasa de Inter�s Interbanca...  ...   disminuye\n",
              "2019-09-26  El objetivo para la Tasa de Inter�s Interbanca...  ...   disminuye\n",
              "2019-11-14  El objetivo para la Tasa de Inter�s Interbanca...  ...   disminuye\n",
              "\n",
              "[104 rows x 3 columns]"
            ]
          },
          "metadata": {
            "tags": []
          },
          "execution_count": 87
        }
      ]
    },
    {
      "cell_type": "code",
      "metadata": {
        "id": "NN6bkkfJeMc7",
        "colab_type": "code",
        "colab": {
          "base_uri": "https://localhost:8080/",
          "height": 173
        },
        "outputId": "658fca15-099f-4d7d-bcaa-f7874a57b464"
      },
      "source": [
        "#Cuenta cuántas veces incrementa, disminuye o se mantiene la tasa \n",
        "(full_df.groupby(\"category\").count()\n",
        "                            .drop(\"url\",axis=1))"
      ],
      "execution_count": 47,
      "outputs": [
        {
          "output_type": "execute_result",
          "data": {
            "text/html": [
              "<div>\n",
              "<style scoped>\n",
              "    .dataframe tbody tr th:only-of-type {\n",
              "        vertical-align: middle;\n",
              "    }\n",
              "\n",
              "    .dataframe tbody tr th {\n",
              "        vertical-align: top;\n",
              "    }\n",
              "\n",
              "    .dataframe thead th {\n",
              "        text-align: right;\n",
              "    }\n",
              "</style>\n",
              "<table border=\"1\" class=\"dataframe\">\n",
              "  <thead>\n",
              "    <tr style=\"text-align: right;\">\n",
              "      <th></th>\n",
              "      <th>text</th>\n",
              "    </tr>\n",
              "    <tr>\n",
              "      <th>category</th>\n",
              "      <th></th>\n",
              "    </tr>\n",
              "  </thead>\n",
              "  <tbody>\n",
              "    <tr>\n",
              "      <th>disminuye</th>\n",
              "      <td>14</td>\n",
              "    </tr>\n",
              "    <tr>\n",
              "      <th>incrementa</th>\n",
              "      <td>18</td>\n",
              "    </tr>\n",
              "    <tr>\n",
              "      <th>mantiene</th>\n",
              "      <td>72</td>\n",
              "    </tr>\n",
              "  </tbody>\n",
              "</table>\n",
              "</div>"
            ],
            "text/plain": [
              "            text\n",
              "category        \n",
              "disminuye     14\n",
              "incrementa    18\n",
              "mantiene      72"
            ]
          },
          "metadata": {
            "tags": []
          },
          "execution_count": 47
        }
      ]
    },
    {
      "cell_type": "code",
      "metadata": {
        "id": "bAI5LJUleOfj",
        "colab_type": "code",
        "colab": {
          "base_uri": "https://localhost:8080/",
          "height": 343
        },
        "outputId": "3b5ed2f8-46e1-4ff1-dd69-bae0679de4c0"
      },
      "source": [
        "(full_df.groupby(\"category\").count()\n",
        "                            .drop(\"url\",axis=1)).plot.bar(legend=False,figsize=(12, 4))"
      ],
      "execution_count": 86,
      "outputs": [
        {
          "output_type": "execute_result",
          "data": {
            "text/plain": [
              "<matplotlib.axes._subplots.AxesSubplot at 0x7f5775651ac8>"
            ]
          },
          "metadata": {
            "tags": []
          },
          "execution_count": 86
        },
        {
          "output_type": "display_data",
          "data": {
            "image/png": "[encoded data removed]",
            "text/plain": [
              "<Figure size 864x288 with 1 Axes>"
            ]
          },
          "metadata": {
            "tags": [],
            "image/png": {
              "width": 703,
              "height": 309
            }
          }
        }
      ]
    },
    {
      "cell_type": "code",
      "metadata": {
        "id": "79rMlYgxeQvc",
        "colab_type": "code",
        "colab": {}
      },
      "source": [
        "##########No funcionó\n",
        "#def convert(df):\n",
        " #   category_aux=df['category']\n",
        "  #  df.assign(category_aux=category_aux)\n",
        "   # for i in range(len(df)):\n",
        "    #    if df['category'][i]==\"mantiene\":\n",
        "     #       df['category_aux'][i]==0\n",
        "      #  elif df['category'][i]==\"disminuye\":\n",
        "       #     df['category_aux'][i]==-1\n",
        "        #else:\n",
        "         #   df['category_aux'][i]==1\n",
        "    #return category_aux\n",
        "    \n",
        "#full_df.assign(category_aux=convert(full_df))\n",
        "##########################"
      ],
      "execution_count": 0,
      "outputs": []
    },
    {
      "cell_type": "code",
      "metadata": {
        "id": "d3IOQSeOuapB",
        "colab_type": "code",
        "colab": {
          "base_uri": "https://localhost:8080/",
          "height": 450
        },
        "outputId": "b9c50e83-a5c6-4c54-be51-9c7c8cd342d9"
      },
      "source": [
        "#Agrega una columna auxiliar para la gráfica de category\n",
        "def convert(full_df):\n",
        "  vector=list(full_df['category'])\n",
        "  v_aux=[]\n",
        "  for i in vector:\n",
        "    if i==\"mantiene\":\n",
        "      v_aux.append(0)\n",
        "    elif i==\"disminuye\":\n",
        "      v_aux.append(-1)\n",
        "    else:\n",
        "      v_aux.append(1)\n",
        "  return v_aux\n",
        "\n",
        "df_aux=full_df.assign(category_aux=convert(full_df))\n",
        "df_aux"
      ],
      "execution_count": 189,
      "outputs": [
        {
          "output_type": "execute_result",
          "data": {
            "text/html": [
              "<div>\n",
              "<style scoped>\n",
              "    .dataframe tbody tr th:only-of-type {\n",
              "        vertical-align: middle;\n",
              "    }\n",
              "\n",
              "    .dataframe tbody tr th {\n",
              "        vertical-align: top;\n",
              "    }\n",
              "\n",
              "    .dataframe thead th {\n",
              "        text-align: right;\n",
              "    }\n",
              "</style>\n",
              "<table border=\"1\" class=\"dataframe\">\n",
              "  <thead>\n",
              "    <tr style=\"text-align: right;\">\n",
              "      <th></th>\n",
              "      <th>text</th>\n",
              "      <th>url</th>\n",
              "      <th>category</th>\n",
              "      <th>category_aux</th>\n",
              "    </tr>\n",
              "    <tr>\n",
              "      <th>date</th>\n",
              "      <th></th>\n",
              "      <th></th>\n",
              "      <th></th>\n",
              "      <th></th>\n",
              "    </tr>\n",
              "  </thead>\n",
              "  <tbody>\n",
              "    <tr>\n",
              "      <th>2008-02-15</th>\n",
              "      <td>El objetivo para la Tasa de Inter�s Interbanca...</td>\n",
              "      <td>https://www.banxico.org.mx/publicaciones-y-pre...</td>\n",
              "      <td>mantiene</td>\n",
              "      <td>0</td>\n",
              "    </tr>\n",
              "    <tr>\n",
              "      <th>2008-03-14</th>\n",
              "      <td>El objetivo para la Tasa de Inter�s Interbanca...</td>\n",
              "      <td>https://www.banxico.org.mx/publicaciones-y-pre...</td>\n",
              "      <td>mantiene</td>\n",
              "      <td>0</td>\n",
              "    </tr>\n",
              "    <tr>\n",
              "      <th>2008-04-18</th>\n",
              "      <td>El objetivo para la Tasa de Inter�s Interbanca...</td>\n",
              "      <td>https://www.banxico.org.mx/publicaciones-y-pre...</td>\n",
              "      <td>mantiene</td>\n",
              "      <td>0</td>\n",
              "    </tr>\n",
              "    <tr>\n",
              "      <th>2008-05-16</th>\n",
              "      <td>El objetivo para la Tasa de Inter�s Interbanca...</td>\n",
              "      <td>https://www.banxico.org.mx/publicaciones-y-pre...</td>\n",
              "      <td>mantiene</td>\n",
              "      <td>0</td>\n",
              "    </tr>\n",
              "    <tr>\n",
              "      <th>2008-06-20</th>\n",
              "      <td>El objetivo para la Tasa de Inter�s Interbanca...</td>\n",
              "      <td>https://www.banxico.org.mx/publicaciones-y-pre...</td>\n",
              "      <td>incrementa</td>\n",
              "      <td>1</td>\n",
              "    </tr>\n",
              "    <tr>\n",
              "      <th>...</th>\n",
              "      <td>...</td>\n",
              "      <td>...</td>\n",
              "      <td>...</td>\n",
              "      <td>...</td>\n",
              "    </tr>\n",
              "    <tr>\n",
              "      <th>2019-05-16</th>\n",
              "      <td>El objetivo para la Tasa de Inter�s Interbanca...</td>\n",
              "      <td>https://www.banxico.org.mx/publicaciones-y-pre...</td>\n",
              "      <td>mantiene</td>\n",
              "      <td>0</td>\n",
              "    </tr>\n",
              "    <tr>\n",
              "      <th>2019-06-27</th>\n",
              "      <td>El objetivo para la Tasa de Inter�s Interbanca...</td>\n",
              "      <td>https://www.banxico.org.mx/publicaciones-y-pre...</td>\n",
              "      <td>mantiene</td>\n",
              "      <td>0</td>\n",
              "    </tr>\n",
              "    <tr>\n",
              "      <th>2019-08-15</th>\n",
              "      <td>El objetivo para la Tasa de Inter�s Interbanca...</td>\n",
              "      <td>https://www.banxico.org.mx/publicaciones-y-pre...</td>\n",
              "      <td>disminuye</td>\n",
              "      <td>-1</td>\n",
              "    </tr>\n",
              "    <tr>\n",
              "      <th>2019-09-26</th>\n",
              "      <td>El objetivo para la Tasa de Inter�s Interbanca...</td>\n",
              "      <td>https://www.banxico.org.mx/publicaciones-y-pre...</td>\n",
              "      <td>disminuye</td>\n",
              "      <td>-1</td>\n",
              "    </tr>\n",
              "    <tr>\n",
              "      <th>2019-11-14</th>\n",
              "      <td>El objetivo para la Tasa de Inter�s Interbanca...</td>\n",
              "      <td>https://www.banxico.org.mx/publicaciones-y-pre...</td>\n",
              "      <td>disminuye</td>\n",
              "      <td>-1</td>\n",
              "    </tr>\n",
              "  </tbody>\n",
              "</table>\n",
              "<p>104 rows × 4 columns</p>\n",
              "</div>"
            ],
            "text/plain": [
              "                                                         text  ... category_aux\n",
              "date                                                           ...             \n",
              "2008-02-15  El objetivo para la Tasa de Inter�s Interbanca...  ...            0\n",
              "2008-03-14  El objetivo para la Tasa de Inter�s Interbanca...  ...            0\n",
              "2008-04-18  El objetivo para la Tasa de Inter�s Interbanca...  ...            0\n",
              "2008-05-16  El objetivo para la Tasa de Inter�s Interbanca...  ...            0\n",
              "2008-06-20  El objetivo para la Tasa de Inter�s Interbanca...  ...            1\n",
              "...                                                       ...  ...          ...\n",
              "2019-05-16  El objetivo para la Tasa de Inter�s Interbanca...  ...            0\n",
              "2019-06-27  El objetivo para la Tasa de Inter�s Interbanca...  ...            0\n",
              "2019-08-15  El objetivo para la Tasa de Inter�s Interbanca...  ...           -1\n",
              "2019-09-26  El objetivo para la Tasa de Inter�s Interbanca...  ...           -1\n",
              "2019-11-14  El objetivo para la Tasa de Inter�s Interbanca...  ...           -1\n",
              "\n",
              "[104 rows x 4 columns]"
            ]
          },
          "metadata": {
            "tags": []
          },
          "execution_count": 189
        }
      ]
    },
    {
      "cell_type": "code",
      "metadata": {
        "id": "j8nYlZIuHK8D",
        "colab_type": "code",
        "colab": {
          "base_uri": "https://localhost:8080/",
          "height": 295
        },
        "outputId": "7fa9541d-a77b-4f58-85d2-a1e90d453168"
      },
      "source": [
        "#s=pd.Series(df_aux[\"category_aux\"]\n",
        "#plt.plot(s.index, s.values)\n",
        "#df_aux.plot(df_aux.index, 'category_aux',style='o')\n",
        "#ax = df_aux['category_aux'].plot(style='o')\n",
        "#df_aux['category_aux'].plot(ax=ax,style='o')\n",
        "#df_aux[['date','category_aux']].plot('date', figsize=(15,8))\n",
        "plt.scatter(df_aux.index.tolist(), df_aux['category_aux'],marker=\"+\")  #################################finallyyy\n",
        "plt.grid(alpha=0.6)\n",
        "plt.yticks([-1,0,1])\n",
        "plt.xlabel(\"date\")\n"
      ],
      "execution_count": 199,
      "outputs": [
        {
          "output_type": "execute_result",
          "data": {
            "text/plain": [
              "Text(0.5, 0, 'date')"
            ]
          },
          "metadata": {
            "tags": []
          },
          "execution_count": 199
        },
        {
          "output_type": "display_data",
          "data": {
            "image/png": "[encoded data removed]",
            "text/plain": [
              "<Figure size 864x288 with 1 Axes>"
            ]
          },
          "metadata": {
            "tags": [],
            "image/png": {
              "width": 705,
              "height": 261
            }
          }
        }
      ]
    },
    {
      "cell_type": "code",
      "metadata": {
        "id": "zI0nuOip1ht8",
        "colab_type": "code",
        "colab": {}
      },
      "source": [
        "########################NO FUNCIONO################################\n",
        "#pd.Series.plot(df_aux[\"category_aux\"])\n",
        "#df_aux.index\n",
        "#def years(dates, fmt=\"%Y/%m/%d\"):\n",
        " #   return list(dates.values.astype(\"datetime64[Y]\")\n",
        "\n",
        "#full_df.groupby(\"category\").agg({full_df.index(): years})\n",
        "#(full_df.assign(year=lambda v: full_df.index.tolist().astype(\"datetime64[Y]\"))\n",
        " #       .pivot_table(index=\"date\", columns=\"year\"))\n",
        "###################################################################"
      ],
      "execution_count": 0,
      "outputs": []
    },
    {
      "cell_type": "code",
      "metadata": {
        "id": "ivAlQs92eVTF",
        "colab_type": "code",
        "colab": {
          "base_uri": "https://localhost:8080/",
          "height": 235
        },
        "outputId": "e2cf2f02-2efd-41d7-a34c-724d9c98925f"
      },
      "source": [
        "##Auxiliar para última gráfica\n",
        "def list_dates(full_df):\n",
        "  vector=full_df.index.to_list()\n",
        "  v_aux=[]\n",
        "  for i in vector:\n",
        "    v_aux.append(i.year)\n",
        "  return v_aux\n",
        "\n",
        "df_aux2=full_df.assign(years=list_dates(full_df))\n",
        "df_aux2.head()"
      ],
      "execution_count": 232,
      "outputs": [
        {
          "output_type": "execute_result",
          "data": {
            "text/html": [
              "<div>\n",
              "<style scoped>\n",
              "    .dataframe tbody tr th:only-of-type {\n",
              "        vertical-align: middle;\n",
              "    }\n",
              "\n",
              "    .dataframe tbody tr th {\n",
              "        vertical-align: top;\n",
              "    }\n",
              "\n",
              "    .dataframe thead th {\n",
              "        text-align: right;\n",
              "    }\n",
              "</style>\n",
              "<table border=\"1\" class=\"dataframe\">\n",
              "  <thead>\n",
              "    <tr style=\"text-align: right;\">\n",
              "      <th></th>\n",
              "      <th>text</th>\n",
              "      <th>url</th>\n",
              "      <th>category</th>\n",
              "      <th>years</th>\n",
              "    </tr>\n",
              "    <tr>\n",
              "      <th>date</th>\n",
              "      <th></th>\n",
              "      <th></th>\n",
              "      <th></th>\n",
              "      <th></th>\n",
              "    </tr>\n",
              "  </thead>\n",
              "  <tbody>\n",
              "    <tr>\n",
              "      <th>2008-02-15</th>\n",
              "      <td>El objetivo para la Tasa de Inter�s Interbanca...</td>\n",
              "      <td>https://www.banxico.org.mx/publicaciones-y-pre...</td>\n",
              "      <td>mantiene</td>\n",
              "      <td>2008</td>\n",
              "    </tr>\n",
              "    <tr>\n",
              "      <th>2008-03-14</th>\n",
              "      <td>El objetivo para la Tasa de Inter�s Interbanca...</td>\n",
              "      <td>https://www.banxico.org.mx/publicaciones-y-pre...</td>\n",
              "      <td>mantiene</td>\n",
              "      <td>2008</td>\n",
              "    </tr>\n",
              "    <tr>\n",
              "      <th>2008-04-18</th>\n",
              "      <td>El objetivo para la Tasa de Inter�s Interbanca...</td>\n",
              "      <td>https://www.banxico.org.mx/publicaciones-y-pre...</td>\n",
              "      <td>mantiene</td>\n",
              "      <td>2008</td>\n",
              "    </tr>\n",
              "    <tr>\n",
              "      <th>2008-05-16</th>\n",
              "      <td>El objetivo para la Tasa de Inter�s Interbanca...</td>\n",
              "      <td>https://www.banxico.org.mx/publicaciones-y-pre...</td>\n",
              "      <td>mantiene</td>\n",
              "      <td>2008</td>\n",
              "    </tr>\n",
              "    <tr>\n",
              "      <th>2008-06-20</th>\n",
              "      <td>El objetivo para la Tasa de Inter�s Interbanca...</td>\n",
              "      <td>https://www.banxico.org.mx/publicaciones-y-pre...</td>\n",
              "      <td>incrementa</td>\n",
              "      <td>2008</td>\n",
              "    </tr>\n",
              "  </tbody>\n",
              "</table>\n",
              "</div>"
            ],
            "text/plain": [
              "                                                         text  ... years\n",
              "date                                                           ...      \n",
              "2008-02-15  El objetivo para la Tasa de Inter�s Interbanca...  ...  2008\n",
              "2008-03-14  El objetivo para la Tasa de Inter�s Interbanca...  ...  2008\n",
              "2008-04-18  El objetivo para la Tasa de Inter�s Interbanca...  ...  2008\n",
              "2008-05-16  El objetivo para la Tasa de Inter�s Interbanca...  ...  2008\n",
              "2008-06-20  El objetivo para la Tasa de Inter�s Interbanca...  ...  2008\n",
              "\n",
              "[5 rows x 4 columns]"
            ]
          },
          "metadata": {
            "tags": []
          },
          "execution_count": 232
        }
      ]
    },
    {
      "cell_type": "code",
      "metadata": {
        "id": "7gfPy4IieSif",
        "colab_type": "code",
        "colab": {
          "base_uri": "https://localhost:8080/",
          "height": 731
        },
        "outputId": "86054f02-e35a-4f00-f7e2-76230479ff62"
      },
      "source": [
        "graf_cat=df_aux2.groupby([\"years\",\"category\"]).count().drop(\"url\",axis=1)\n",
        "graf_cat"
      ],
      "execution_count": 257,
      "outputs": [
        {
          "output_type": "execute_result",
          "data": {
            "text/html": [
              "<div>\n",
              "<style scoped>\n",
              "    .dataframe tbody tr th:only-of-type {\n",
              "        vertical-align: middle;\n",
              "    }\n",
              "\n",
              "    .dataframe tbody tr th {\n",
              "        vertical-align: top;\n",
              "    }\n",
              "\n",
              "    .dataframe thead th {\n",
              "        text-align: right;\n",
              "    }\n",
              "</style>\n",
              "<table border=\"1\" class=\"dataframe\">\n",
              "  <thead>\n",
              "    <tr style=\"text-align: right;\">\n",
              "      <th></th>\n",
              "      <th></th>\n",
              "      <th>text</th>\n",
              "    </tr>\n",
              "    <tr>\n",
              "      <th>years</th>\n",
              "      <th>category</th>\n",
              "      <th></th>\n",
              "    </tr>\n",
              "  </thead>\n",
              "  <tbody>\n",
              "    <tr>\n",
              "      <th rowspan=\"2\" valign=\"top\">2008</th>\n",
              "      <th>incrementa</th>\n",
              "      <td>3</td>\n",
              "    </tr>\n",
              "    <tr>\n",
              "      <th>mantiene</th>\n",
              "      <td>7</td>\n",
              "    </tr>\n",
              "    <tr>\n",
              "      <th rowspan=\"2\" valign=\"top\">2009</th>\n",
              "      <th>disminuye</th>\n",
              "      <td>7</td>\n",
              "    </tr>\n",
              "    <tr>\n",
              "      <th>mantiene</th>\n",
              "      <td>4</td>\n",
              "    </tr>\n",
              "    <tr>\n",
              "      <th>2010</th>\n",
              "      <th>mantiene</th>\n",
              "      <td>11</td>\n",
              "    </tr>\n",
              "    <tr>\n",
              "      <th>2011</th>\n",
              "      <th>mantiene</th>\n",
              "      <td>8</td>\n",
              "    </tr>\n",
              "    <tr>\n",
              "      <th>2012</th>\n",
              "      <th>mantiene</th>\n",
              "      <td>8</td>\n",
              "    </tr>\n",
              "    <tr>\n",
              "      <th rowspan=\"2\" valign=\"top\">2013</th>\n",
              "      <th>disminuye</th>\n",
              "      <td>3</td>\n",
              "    </tr>\n",
              "    <tr>\n",
              "      <th>mantiene</th>\n",
              "      <td>5</td>\n",
              "    </tr>\n",
              "    <tr>\n",
              "      <th rowspan=\"2\" valign=\"top\">2014</th>\n",
              "      <th>disminuye</th>\n",
              "      <td>1</td>\n",
              "    </tr>\n",
              "    <tr>\n",
              "      <th>mantiene</th>\n",
              "      <td>7</td>\n",
              "    </tr>\n",
              "    <tr>\n",
              "      <th rowspan=\"2\" valign=\"top\">2015</th>\n",
              "      <th>incrementa</th>\n",
              "      <td>1</td>\n",
              "    </tr>\n",
              "    <tr>\n",
              "      <th>mantiene</th>\n",
              "      <td>7</td>\n",
              "    </tr>\n",
              "    <tr>\n",
              "      <th rowspan=\"2\" valign=\"top\">2016</th>\n",
              "      <th>incrementa</th>\n",
              "      <td>5</td>\n",
              "    </tr>\n",
              "    <tr>\n",
              "      <th>mantiene</th>\n",
              "      <td>4</td>\n",
              "    </tr>\n",
              "    <tr>\n",
              "      <th rowspan=\"2\" valign=\"top\">2017</th>\n",
              "      <th>incrementa</th>\n",
              "      <td>5</td>\n",
              "    </tr>\n",
              "    <tr>\n",
              "      <th>mantiene</th>\n",
              "      <td>3</td>\n",
              "    </tr>\n",
              "    <tr>\n",
              "      <th rowspan=\"2\" valign=\"top\">2018</th>\n",
              "      <th>incrementa</th>\n",
              "      <td>4</td>\n",
              "    </tr>\n",
              "    <tr>\n",
              "      <th>mantiene</th>\n",
              "      <td>4</td>\n",
              "    </tr>\n",
              "    <tr>\n",
              "      <th rowspan=\"2\" valign=\"top\">2019</th>\n",
              "      <th>disminuye</th>\n",
              "      <td>3</td>\n",
              "    </tr>\n",
              "    <tr>\n",
              "      <th>mantiene</th>\n",
              "      <td>4</td>\n",
              "    </tr>\n",
              "  </tbody>\n",
              "</table>\n",
              "</div>"
            ],
            "text/plain": [
              "                  text\n",
              "years category        \n",
              "2008  incrementa     3\n",
              "      mantiene       7\n",
              "2009  disminuye      7\n",
              "      mantiene       4\n",
              "2010  mantiene      11\n",
              "2011  mantiene       8\n",
              "2012  mantiene       8\n",
              "2013  disminuye      3\n",
              "      mantiene       5\n",
              "2014  disminuye      1\n",
              "      mantiene       7\n",
              "2015  incrementa     1\n",
              "      mantiene       7\n",
              "2016  incrementa     5\n",
              "      mantiene       4\n",
              "2017  incrementa     5\n",
              "      mantiene       3\n",
              "2018  incrementa     4\n",
              "      mantiene       4\n",
              "2019  disminuye      3\n",
              "      mantiene       4"
            ]
          },
          "metadata": {
            "tags": []
          },
          "execution_count": 257
        }
      ]
    },
    {
      "cell_type": "code",
      "metadata": {
        "id": "6Gqfzv_3nXVI",
        "colab_type": "code",
        "colab": {
          "base_uri": "https://localhost:8080/",
          "height": 235
        },
        "outputId": "3abc6236-5444-4ed4-d673-83053eca4414"
      },
      "source": [
        "#graf_cat.plot.bar()\n",
        "#plt.bar(graf_cat, category, width, yerr=menStd)\n",
        "#plt.bar(graf_cat, womenMeans, width,\n",
        "             #bottom=menMeans, yerr=womenStd)\n",
        "             \n",
        "#Crea tabla dinámica para graficar \n",
        "df_pivot = graf_cat.reset_index()\n",
        "df_pivot = df_pivot.pivot(index='years', columns='category', values='text')\n",
        "df_pivot.head()"
      ],
      "execution_count": 271,
      "outputs": [
        {
          "output_type": "execute_result",
          "data": {
            "text/html": [
              "<div>\n",
              "<style scoped>\n",
              "    .dataframe tbody tr th:only-of-type {\n",
              "        vertical-align: middle;\n",
              "    }\n",
              "\n",
              "    .dataframe tbody tr th {\n",
              "        vertical-align: top;\n",
              "    }\n",
              "\n",
              "    .dataframe thead th {\n",
              "        text-align: right;\n",
              "    }\n",
              "</style>\n",
              "<table border=\"1\" class=\"dataframe\">\n",
              "  <thead>\n",
              "    <tr style=\"text-align: right;\">\n",
              "      <th>category</th>\n",
              "      <th>disminuye</th>\n",
              "      <th>incrementa</th>\n",
              "      <th>mantiene</th>\n",
              "    </tr>\n",
              "    <tr>\n",
              "      <th>years</th>\n",
              "      <th></th>\n",
              "      <th></th>\n",
              "      <th></th>\n",
              "    </tr>\n",
              "  </thead>\n",
              "  <tbody>\n",
              "    <tr>\n",
              "      <th>2008</th>\n",
              "      <td>NaN</td>\n",
              "      <td>3.0</td>\n",
              "      <td>7.0</td>\n",
              "    </tr>\n",
              "    <tr>\n",
              "      <th>2009</th>\n",
              "      <td>7.0</td>\n",
              "      <td>NaN</td>\n",
              "      <td>4.0</td>\n",
              "    </tr>\n",
              "    <tr>\n",
              "      <th>2010</th>\n",
              "      <td>NaN</td>\n",
              "      <td>NaN</td>\n",
              "      <td>11.0</td>\n",
              "    </tr>\n",
              "    <tr>\n",
              "      <th>2011</th>\n",
              "      <td>NaN</td>\n",
              "      <td>NaN</td>\n",
              "      <td>8.0</td>\n",
              "    </tr>\n",
              "    <tr>\n",
              "      <th>2012</th>\n",
              "      <td>NaN</td>\n",
              "      <td>NaN</td>\n",
              "      <td>8.0</td>\n",
              "    </tr>\n",
              "  </tbody>\n",
              "</table>\n",
              "</div>"
            ],
            "text/plain": [
              "category  disminuye  incrementa  mantiene\n",
              "years                                    \n",
              "2008            NaN         3.0       7.0\n",
              "2009            7.0         NaN       4.0\n",
              "2010            NaN         NaN      11.0\n",
              "2011            NaN         NaN       8.0\n",
              "2012            NaN         NaN       8.0"
            ]
          },
          "metadata": {
            "tags": []
          },
          "execution_count": 271
        }
      ]
    },
    {
      "cell_type": "code",
      "metadata": {
        "id": "IxuuFSgup081",
        "colab_type": "code",
        "colab": {
          "base_uri": "https://localhost:8080/",
          "height": 294
        },
        "outputId": "3c481702-6b89-489b-fc3b-43737b7aa525"
      },
      "source": [
        "#Grafica\n",
        "df_pivot.loc[:,['disminuye','incrementa', 'mantiene']].plot.bar(stacked=True, figsize=(12,4))\n",
        "plt.grid(alpha=0.4)"
      ],
      "execution_count": 281,
      "outputs": [
        {
          "output_type": "display_data",
          "data": {
            "image/png": "[encoded data removed]",
            "text/plain": [
              "<Figure size 864x288 with 1 Axes>"
            ]
          },
          "metadata": {
            "tags": [],
            "image/png": {
              "width": 703,
              "height": 277
            }
          }
        }
      ]
    }
  ]
}