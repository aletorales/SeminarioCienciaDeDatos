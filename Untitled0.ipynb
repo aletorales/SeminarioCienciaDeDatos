{
  "nbformat": 4,
  "nbformat_minor": 0,
  "metadata": {
    "colab": {
      "name": "Untitled0.ipynb",
      "provenance": [],
      "include_colab_link": true
    },
    "kernelspec": {
      "name": "python3",
      "display_name": "Python 3"
    }
  },
  "cells": [
    {
      "cell_type": "markdown",
      "metadata": {
        "id": "view-in-github",
        "colab_type": "text"
      },
      "source": [
        "<a href=\"https://colab.research.google.com/github/aletorales/SeminarioCienciaDeDatos/blob/master/Untitled0.ipynb\" target=\"_parent\"><img src=\"https://colab.research.google.com/assets/colab-badge.svg\" alt=\"Open In Colab\"/></a>"
      ]
    },
    {
      "cell_type": "code",
      "metadata": {
        "id": "Q2pzq4Rjsmc5",
        "colab_type": "code",
        "outputId": "1516f658-ad64-4b94-9ff4-c4a05b7ba62c",
        "colab": {
          "base_uri": "https://localhost:8080/",
          "height": 34
        }
      },
      "source": [
        "sum([x for x in range(1,1000) if x%5==0 or x%3==0])"
      ],
      "execution_count": 7,
      "outputs": [
        {
          "output_type": "execute_result",
          "data": {
            "text/plain": [
              "233168"
            ]
          },
          "metadata": {
            "tags": []
          },
          "execution_count": 7
        }
      ]
    },
    {
      "cell_type": "code",
      "metadata": {
        "id": "hVDN_glODzyy",
        "colab_type": "code",
        "colab": {
          "base_uri": "https://localhost:8080/",
          "height": 34
        },
        "outputId": "c84664cc-c5b6-4dab-bf04-2f3bc0de88fd"
      },
      "source": [
        "def conjunto_unidades_potencia(x,n):\n",
        "  p= map(lambda x: list(map(lambda n: x**n , range(1, n))), range(1,x))\n",
        "  return list(p)\n",
        "\n",
        "conjunto_unidades_potencia(5,5)"
      ],
      "execution_count": 89,
      "outputs": [
        {
          "output_type": "execute_result",
          "data": {
            "text/plain": [
              "[[1, 1, 1, 1], [2, 4, 8, 16], [3, 9, 27, 81], [4, 16, 64, 256]]"
            ]
          },
          "metadata": {
            "tags": []
          },
          "execution_count": 89
        }
      ]
    },
    {
      "cell_type": "code",
      "metadata": {
        "id": "-Z7Ll_CYEv6j",
        "colab_type": "code",
        "colab": {
          "base_uri": "https://localhost:8080/",
          "height": 34
        },
        "outputId": "5d496da2-ae63-4f22-e94f-013bf13f5671"
      },
      "source": [
        "lista_nueva=[]\n",
        "def solo_impares(lista):\n",
        "  [lista_nueva.append(x) for x in lista if x%2==1]\n",
        "  return lista_nueva\n",
        "  \n",
        "solo_impares([1, 5, 2, 8, 9, 10])"
      ],
      "execution_count": 61,
      "outputs": [
        {
          "output_type": "execute_result",
          "data": {
            "text/plain": [
              "[1, 5, 9]"
            ]
          },
          "metadata": {
            "tags": []
          },
          "execution_count": 61
        }
      ]
    },
    {
      "cell_type": "code",
      "metadata": {
        "id": "W5bFUt2U7y7u",
        "colab_type": "code",
        "colab": {
          "base_uri": "https://localhost:8080/",
          "height": 149
        },
        "outputId": "212b9937-62b2-4d07-c3bd-6532c4b000f5"
      },
      "source": [
        "lista=[1,2,3,4,5,6,7,8,9,15]\n",
        "\n",
        "\n",
        "[[\"fizzbuzz\" for x in lista if x%3==0 if x%5==0]  \"fizz\" if x%3==0 else \"buzz\" if x%5==0 else x for x in lista ]"
      ],
      "execution_count": 97,
      "outputs": [
        {
          "output_type": "error",
          "ename": "SyntaxError",
          "evalue": "ignored",
          "traceback": [
            "\u001b[0;36m  File \u001b[0;32m\"<ipython-input-97-28ed8c7eb05e>\"\u001b[0;36m, line \u001b[0;32m4\u001b[0m\n\u001b[0;31m    [[\"fizzbuzz\" for x in lista if x%3==0 if x%5==0] for x in lista \"fizz\" if x%3==0 else \"buzz\" if x%5==0 else x ]\u001b[0m\n\u001b[0m                                                                         ^\u001b[0m\n\u001b[0;31mSyntaxError\u001b[0m\u001b[0;31m:\u001b[0m invalid syntax\n"
          ]
        }
      ]
    },
    {
      "cell_type": "code",
      "metadata": {
        "id": "NuQushUaAOw-",
        "colab_type": "code",
        "colab": {
          "base_uri": "https://localhost:8080/",
          "height": 34
        },
        "outputId": "3dd0109e-cdf0-406a-cb7a-1e4c4c46b6eb"
      },
      "source": [
        "lista=[1,2,3,4,5,6,7,8,9,10,15,30]\n",
        "\n",
        "def fizzbuzz(n):\n",
        "  [\"fizz\" if x%3==0 else \"buzz\" if x%5==0 else x for x in range(1,n)]\n"
      ],
      "execution_count": 100,
      "outputs": [
        {
          "output_type": "execute_result",
          "data": {
            "text/plain": [
              "[1, 2, 'fizz', 4, 'buzz', 'fizz', 7, 8]"
            ]
          },
          "metadata": {
            "tags": []
          },
          "execution_count": 100
        }
      ]
    }
  ]
}